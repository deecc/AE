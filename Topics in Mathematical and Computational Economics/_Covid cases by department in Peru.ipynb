{
 "cells": [
  {
   "cell_type": "code",
   "execution_count": 1,
   "id": "2bf968ab",
   "metadata": {},
   "outputs": [
    {
     "data": {
      "text/html": [
       "4.85366732683479e-05"
      ],
      "text/latex": [
       "4.85366732683479e-05"
      ],
      "text/markdown": [
       "4.85366732683479e-05"
      ],
      "text/plain": [
       "[1] 4.853667e-05"
      ]
     },
     "metadata": {},
     "output_type": "display_data"
    },
    {
     "data": {
      "text/html": [
       "-0.158329691871795"
      ],
      "text/latex": [
       "-0.158329691871795"
      ],
      "text/markdown": [
       "-0.158329691871795"
      ],
      "text/plain": [
       "[1] -0.1583297"
      ]
     },
     "metadata": {},
     "output_type": "display_data"
    },
    {
     "data": {
      "text/html": [
       "<dl class=dl-horizontal>\n",
       "\t<dt>1</dt>\n",
       "\t\t<dd>4.85366732683479e-05</dd>\n",
       "\t<dt>2</dt>\n",
       "\t\t<dd>-0.158329691871795</dd>\n",
       "\t<dt>(Intercept)</dt>\n",
       "\t\t<dd>0.0561925118135021</dd>\n",
       "\t<dt>x</dt>\n",
       "\t\t<dd>-0.041484898275338</dd>\n",
       "</dl>\n"
      ],
      "text/latex": [
       "\\begin{description*}\n",
       "\\item[1] 4.85366732683479e-05\n",
       "\\item[2] -0.158329691871795\n",
       "\\item[(Intercept)] 0.0561925118135021\n",
       "\\item[x] -0.041484898275338\n",
       "\\end{description*}\n"
      ],
      "text/markdown": [
       "1\n",
       ":   4.85366732683479e-052\n",
       ":   -0.158329691871795(Intercept)\n",
       ":   0.0561925118135021x\n",
       ":   -0.041484898275338\n",
       "\n"
      ],
      "text/plain": [
       "                              (Intercept)             x \n",
       " 4.853667e-05 -1.583297e-01  5.619251e-02 -4.148490e-02 "
      ]
     },
     "metadata": {},
     "output_type": "display_data"
    },
    {
     "data": {
      "text/html": [
       "<table>\n",
       "<tbody>\n",
       "\t<tr><td>36 </td><td>52 </td><td>0.0</td></tr>\n",
       "\t<tr><td>51 </td><td>43 </td><td>7.0</td></tr>\n",
       "\t<tr><td>13 </td><td>74 </td><td>1.1</td></tr>\n",
       "</tbody>\n",
       "</table>\n"
      ],
      "text/latex": [
       "\\begin{tabular}{lll}\n",
       "\t 36  & 52  & 0.0\\\\\n",
       "\t 51  & 43  & 7.0\\\\\n",
       "\t 13  & 74  & 1.1\\\\\n",
       "\\end{tabular}\n"
      ],
      "text/markdown": [
       "\n",
       "| 36  | 52  | 0.0 |\n",
       "| 51  | 43  | 7.0 |\n",
       "| 13  | 74  | 1.1 |\n",
       "\n"
      ],
      "text/plain": [
       "     [,1] [,2] [,3]\n",
       "[1,] 36   52   0.0 \n",
       "[2,] 51   43   7.0 \n",
       "[3,] 13   74   1.1 "
      ]
     },
     "metadata": {},
     "output_type": "display_data"
    },
    {
     "data": {
      "text/html": [
       "<table>\n",
       "<tbody>\n",
       "\t<tr><td> 3</td></tr>\n",
       "\t<tr><td>45</td></tr>\n",
       "\t<tr><td>33</td></tr>\n",
       "</tbody>\n",
       "</table>\n"
      ],
      "text/latex": [
       "\\begin{tabular}{l}\n",
       "\t  3\\\\\n",
       "\t 45\\\\\n",
       "\t 33\\\\\n",
       "\\end{tabular}\n"
      ],
      "text/markdown": [
       "\n",
       "|  3 |\n",
       "| 45 |\n",
       "| 33 |\n",
       "\n"
      ],
      "text/plain": [
       "     [,1]\n",
       "[1,]  3  \n",
       "[2,] 45  \n",
       "[3,] 33  "
      ]
     },
     "metadata": {},
     "output_type": "display_data"
    },
    {
     "data": {
      "text/html": [
       "<table>\n",
       "<tbody>\n",
       "\t<tr><td>-0.5304486</td></tr>\n",
       "\t<tr><td> 0.4249260</td></tr>\n",
       "\t<tr><td> 7.6830090</td></tr>\n",
       "</tbody>\n",
       "</table>\n"
      ],
      "text/latex": [
       "\\begin{tabular}{l}\n",
       "\t -0.5304486\\\\\n",
       "\t  0.4249260\\\\\n",
       "\t  7.6830090\\\\\n",
       "\\end{tabular}\n"
      ],
      "text/markdown": [
       "\n",
       "| -0.5304486 |\n",
       "|  0.4249260 |\n",
       "|  7.6830090 |\n",
       "\n"
      ],
      "text/plain": [
       "     [,1]      \n",
       "[1,] -0.5304486\n",
       "[2,]  0.4249260\n",
       "[3,]  7.6830090"
      ]
     },
     "metadata": {},
     "output_type": "display_data"
    },
    {
     "data": {
      "image/png": "[encoded data removed]",
      "text/plain": [
       "plot without title"
      ]
     },
     "metadata": {},
     "output_type": "display_data"
    }
   ],
   "source": [
    "\n",
    "#1\n",
    "n=300\n",
    "x=rnorm(n,5,3)\n",
    "y=rnorm(n,0,2)\n",
    "\n",
    "#1.1\n",
    "b=(n*(sum(x*y))-(sum(x)*sum(y)))/(n*(sum(x*x)-(sum(x))**2))\n",
    "b\n",
    "#1.2\n",
    "m=(sum(y)-b*(sum(x)))/n\n",
    "m\n",
    "\n",
    "#1.3\n",
    "reg_y=lm(y~x)\n",
    "beta0=reg_y$coefficients[1]\n",
    "beta1=reg_y$coefficients[2]\n",
    "\n",
    "c(b,m,beta0,beta1)\n",
    "#la pendiente varia en el primer caso es un tercio del segundo, de la misma manera ocurre con el intercepto\n",
    "#2\n",
    "\n",
    "#2.1\n",
    "m1=matrix(c(36,51,13,52,43,74,0,7,1.1),3,3,F)\n",
    "m1\n",
    "m2=matrix(c(3,45,33),3,1)\n",
    "m2\n",
    "#transpuesta\n",
    "m1t=t(m1)\n",
    "#2.2\n",
    "determinante=det(m1)\n",
    "\n",
    "#2.3\n",
    "solve(m1,m2)\n",
    "\n",
    "\n",
    "#3\n",
    "fun1=function(x){\n",
    "  y=rep(0,length(x))\n",
    "  for(i in 1:length(x)){\n",
    "    if(x[i]>-10 & x[i]<10){\n",
    "      y[i]=-(x[i]**2)}\n",
    "    else if(x[i]%%2==0){\n",
    "      y[i]=x[1]*20}\n",
    "    else if(x[i]%%3==0){\n",
    "      y[i]=x[1]*17.5}\n",
    "    else if(x[i]%%2!=0){\n",
    "      y[i]=x[1]*15\n",
    "    }\n",
    "  }\n",
    "  return(y)\n",
    "}\n",
    "\n",
    "A=-22:22\n",
    "B=fun1(A)\n",
    "plot(A,B,col=\"blue\")\n"
   ]
  },
  {
   "cell_type": "code",
   "execution_count": 2,
   "id": "6fd45612",
   "metadata": {},
   "outputs": [
    {
     "name": "stderr",
     "output_type": "stream",
     "text": [
      "New names:\n",
      "* `Pruebas moleculares` -> `Pruebas moleculares...4`\n",
      "* `Pruebas rápidas` -> `Pruebas rápidas...5`\n",
      "* `Pruebas moleculares` -> `Pruebas moleculares...7`\n",
      "* `Pruebas rápidas` -> `Pruebas rápidas...8`\n",
      "* `Pruebas moleculares` -> `Pruebas moleculares...10`\n",
      "* ... and 1 more problem\n"
     ]
    },
    {
     "name": "stdout",
     "output_type": "stream",
     "text": [
      " chr [1:46] \"2\" \"216\" \"241\" \"278\" \"307\" \"322\" \"369 \" \"453 \" \"494 \" \"518\" ...\n",
      " chr [1:46] \"0\" \"263\" \"318\" \"363 \" \"395\" \"416\" \"480 \" \"580 \" \"635 \" \"671\" ...\n"
     ]
    },
    {
     "data": {
      "text/plain": [
       "   Length     Class      Mode \n",
       "       46 character character "
      ]
     },
     "metadata": {},
     "output_type": "display_data"
    }
   ],
   "source": [
    "\n",
    "#4\n",
    "library(tibble)\n",
    "setwd(\"C:/Users/Enriq/Desktop/R univ\")\n",
    "data= readxl::read_xlsx(\"Data_covid_05_mayo.xlsx\")\n",
    "#4.1\n",
    "str(data$Lima)\n",
    "str(data$Positivos)\n",
    "summary(data$Lima)\n",
    "\n",
    "#4.2\n",
    "library(tidyr)\n",
    "data_1=drop_na(data,c(\"Lima\",\"Positivos\"))\n",
    "\n"
   ]
  },
  {
   "cell_type": "code",
   "execution_count": 3,
   "id": "a65085ed",
   "metadata": {},
   "outputs": [
    {
     "name": "stdout",
     "output_type": "stream",
     "text": [
      " chr [1:44] \"2\" \"216\" \"241\" \"278\" \"307\" \"322\" \"369\" \"453\" \"494\" \"518\" \"639\" ...\n",
      " chr [1:44] \"0\" \"263\" \"318\" \"363 \" \"395\" \"416\" \"480 \" \"580 \" \"635 \" \"671\" ...\n",
      " chr [1:44] \"0\" \"263\" \"318\" \"363\" \"395\" \"416\" \"480\" \"580\" \"635\" \"671\" \"852\" ...\n",
      " num [1:44] 0 263 318 363 395 416 480 580 635 671 ...\n"
     ]
    }
   ],
   "source": [
    "lima=data_1$Lima\n",
    "positivos=data_1$Positivos\n",
    "#limpiando\n",
    "lima=gsub(\"\\\\s\",\"\",lima)\n",
    "str(lima)\n",
    "view(lima)\n",
    "\n",
    "#limpiando positivos\n",
    "str(positivos)\n",
    "positivos=gsub(\"\\\\s\",\"\",positivos)\n",
    "positivos=gsub(\"[[:punct:]]\",\"\",positivos)\n",
    "#View(positivos)\n",
    "str(positivos)\n",
    "\n",
    "#transformando a numeric\n",
    "lima=as.numeric(as.character(lima))\n",
    "positivos=as.numeric(as.character(positivos))\n",
    "str(positivos)\n"
   ]
  },
  {
   "cell_type": "code",
   "execution_count": 4,
   "id": "a9f3ae09",
   "metadata": {},
   "outputs": [],
   "source": [
    "\n",
    "#4.3\n",
    "data_1=cbind(data_1,lima)\n",
    "data_1=cbind(data_1,positivos)\n",
    "#*existe un problema porque en la primera linea de la data sale que lima tiene 2 casos confirmados pero el caso\n",
    "#de confirmados a nivel peru sale 0, si hallamos el ratio saldria infinito, para que no pase eso sustituyo el valor 0 \n",
    "#por 2( que es el mismo de lima) \n",
    "data_1$positivos[1]=2\n",
    "ratio_lima=data_1$lima/data_1$positivos*100\n",
    "data_1=cbind(data_1,ratio_lima)\n",
    "\n"
   ]
  },
  {
   "cell_type": "code",
   "execution_count": 5,
   "id": "f563375c",
   "metadata": {},
   "outputs": [
    {
     "data": {
      "image/png": "[encoded data removed]",
      "text/plain": [
       "Plot with title \"Ratio de casos confirmados en Lima y el total de casos confirmados en el Perú\""
      ]
     },
     "metadata": {},
     "output_type": "display_data"
    }
   ],
   "source": [
    "#4.4\n",
    "h1=hist(round(data_1$ratio_lima,0),xlab=\"Porcentaje\",ylim = c(0,16),main=\"Ratio de casos confirmados en Lima y el total de casos confirmados en el Perú\")\n",
    "mu=mean(data_1$ratio_lima)\n",
    "s=sd(data_1$ratio_lima)\n",
    "abline(v=mu,col=2,lty=2)\n",
    "text(x=mu,y=0.4,col=\"steelblue\",label=\"72.3\")\n",
    "curve(dnorm(x,mu,s)*100,add=TRUE,col=\"steelblue\")\n",
    "\n"
   ]
  },
  {
   "cell_type": "code",
   "execution_count": 6,
   "id": "36f5427e",
   "metadata": {},
   "outputs": [],
   "source": [
    "#5\n",
    "setwd(\"C:/Users/Enriq/Desktop/R univ\")\n",
    "base= readxl::read_xlsx(\"Regiones_covid_19-mayo_13.xlsx\")\n",
    "base_order=base[order(base$Casos,decreasing = T),]\n",
    "top_10_departamentos=base_order[1:10,]\n",
    "\n",
    "#5.2\n",
    "casos_confirmados_100m=round(top_10_departamentos$Casos/top_10_departamentos$Población*100000,0)\n",
    "view(casos_confirmados_100m)\n"
   ]
  },
  {
   "cell_type": "code",
   "execution_count": 7,
   "id": "38baf013",
   "metadata": {},
   "outputs": [
    {
     "data": {
      "image/png": "[encoded data removed]"
     },
     "metadata": {},
     "output_type": "display_data"
    }
   ],
   "source": [
    "\n",
    "#5.3\n",
    "base_nueva=cbind(top_10_departamentos,casos_confirmados_100m)\n",
    "\n",
    "#5.4\n",
    "base_nueva_order=base_nueva[order(base_nueva$casos_confirmados_100m ,decreasing = F),]\n",
    "departamentos = base_nueva_order$Departamento\n",
    "\n",
    "lista_color = rep(0, length(departamentos) )\n",
    "\n",
    "for(i in 1:length(departamentos))\n",
    "{\n",
    "  if (departamentos[i] == 'Lima')\n",
    "  {\n",
    "    lista_color[i] = 2\n",
    "  }\n",
    "}\n",
    "\n",
    "\n",
    "g1=barplot(base_nueva_order$casos_confirmados_100m,yaxt='n',col=lista_color,ylim = c(0,700),main=c(\"Top 10 departamentos: Casos confirmados por COVID 19\",\"(Número de infectados por cada cien mil habitantes)\"),col.main=\"steelblue\",ylab = \"\")\n",
    "text(x=g1,y=base_nueva_order$casos_confirmados_100m,labels=format(base_nueva_order$casos_confirmados_100m,digits=3),pos=3,col=\"steelblue\")\n",
    "text(g1, par(\"usr\")[1], labels = base_nueva_order$Departamento, srt = 90, adj = c(1.1,1.1), xpd = TRUE, cex=0.8)\n"
   ]
  },
  {
   "cell_type": "code",
   "execution_count": null,
   "id": "c142d340",
   "metadata": {},
   "outputs": [],
   "source": []
  }
 ],
 "metadata": {
  "kernelspec": {
   "display_name": "R",
   "language": "R",
   "name": "ir"
  },
  "language_info": {
   "codemirror_mode": "r",
   "file_extension": ".r",
   "mimetype": "text/x-r-source",
   "name": "R",
   "pygments_lexer": "r",
   "version": "3.6.1"
  }
 },
 "nbformat": 4,
 "nbformat_minor": 5
}
